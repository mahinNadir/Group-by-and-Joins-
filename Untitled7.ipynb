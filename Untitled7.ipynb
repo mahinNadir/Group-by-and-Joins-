{
  "nbformat": 4,
  "nbformat_minor": 0,
  "metadata": {
    "colab": {
      "provenance": []
    },
    "kernelspec": {
      "name": "python3",
      "display_name": "Python 3"
    },
    "language_info": {
      "name": "python"
    }
  },
  "cells": [
    {
      "cell_type": "code",
      "execution_count": null,
      "metadata": {
        "id": "9YZU-ogMrCMq"
      },
      "outputs": [],
      "source": []
    },
    {
      "cell_type": "code",
      "source": [
        "import pandas as pd\n",
        "\n",
        "# Load the CSV files\n",
        "customers_df = pd.read_csv('customers.csv')\n",
        "orders_df = pd.read_csv('orders.csv')\n",
        "\n",
        "# 1. Inner Join (only matching rows from both DataFrames)\n",
        "inner_join = pd.merge(customers_df, orders_df, on=\"customer_id\", how=\"inner\")\n",
        "print(\"Inner Join:\\n\", inner_join)\n",
        "\n",
        "# 2. Left Join (all rows from customers, matching rows from orders)\n",
        "left_join = pd.merge(customers_df, orders_df, on=\"customer_id\", how=\"left\")\n",
        "print(\"\\nLeft Join:\\n\", left_join)\n",
        "\n",
        "# 3. Right Join (all rows from orders, matching rows from customers)\n",
        "right_join = pd.merge(customers_df, orders_df, on=\"customer_id\", how=\"right\")\n",
        "print(\"\\nRight Join:\\n\", right_join)\n",
        "\n",
        "# 4. Full Outer Join (all rows from both DataFrames, matching where possible)\n",
        "outer_join = pd.merge(customers_df, orders_df, on=\"customer_id\", how=\"outer\")\n",
        "print(\"\\nFull Outer Join:\\n\", outer_join)\n"
      ],
      "metadata": {
        "colab": {
          "base_uri": "https://localhost:8080/"
        },
        "id": "ItCh33lereMS",
        "outputId": "7cd62eba-d2d3-497b-f37c-e6bb8571c7d3"
      },
      "execution_count": 1,
      "outputs": [
        {
          "output_type": "stream",
          "name": "stdout",
          "text": [
            "Inner Join:\n",
            "    customer_id customer_name  order_id  order_value\n",
            "0            1         Alice       101          200\n",
            "1            2           Bob       102          450\n",
            "\n",
            "Left Join:\n",
            "    customer_id customer_name  order_id  order_value\n",
            "0            1         Alice     101.0        200.0\n",
            "1            2           Bob     102.0        450.0\n",
            "2            3       Charlie       NaN          NaN\n",
            "\n",
            "Right Join:\n",
            "    customer_id customer_name  order_id  order_value\n",
            "0            1         Alice       101          200\n",
            "1            2           Bob       102          450\n",
            "2            4           NaN       103          300\n",
            "\n",
            "Full Outer Join:\n",
            "    customer_id customer_name  order_id  order_value\n",
            "0            1         Alice     101.0        200.0\n",
            "1            2           Bob     102.0        450.0\n",
            "2            3       Charlie       NaN          NaN\n",
            "3            4           NaN     103.0        300.0\n"
          ]
        }
      ]
    },
    {
      "cell_type": "code",
      "source": [
        "# Load the CSV file\n",
        "sales_df = pd.read_csv('sales.csv')\n",
        "\n",
        "# 1. Group by salesperson and calculate total sales amount for each person\n",
        "total_sales_by_person = sales_df.groupby('salesperson')['amount'].sum()\n",
        "print(\"\\nTotal Sales by Salesperson:\\n\", total_sales_by_person)\n",
        "\n",
        "# 2. Group by region and product, then calculate the average amount for each combination\n",
        "avg_sales_by_region_product = sales_df.groupby(['region', 'product'])['amount'].mean()\n",
        "print(\"\\nAverage Sales by Region and Product:\\n\", avg_sales_by_region_product)\n",
        "\n",
        "# 3. Group by product, then calculate sum and average of sales amount for each product\n",
        "sales_sum_avg_by_product = sales_df.groupby('product')['amount'].agg(['sum', 'mean'])\n",
        "print(\"\\nSum and Average of Sales by Product:\\n\", sales_sum_avg_by_product)\n"
      ],
      "metadata": {
        "colab": {
          "base_uri": "https://localhost:8080/"
        },
        "id": "wdT1LR24u2b4",
        "outputId": "89a703e4-08ee-4a71-804e-8dc0363557e9"
      },
      "execution_count": 2,
      "outputs": [
        {
          "output_type": "stream",
          "name": "stdout",
          "text": [
            "\n",
            "Total Sales by Salesperson:\n",
            " salesperson\n",
            "Alice      1500\n",
            "Bob        1900\n",
            "Charlie    1800\n",
            "David      2200\n",
            "Name: amount, dtype: int64\n",
            "\n",
            "Average Sales by Region and Product:\n",
            " region  product\n",
            "East    Laptop     1100.0\n",
            "        Phone       800.0\n",
            "North   Laptop     1000.0\n",
            "        Phone       500.0\n",
            "South   Laptop     1200.0\n",
            "        Phone       600.0\n",
            "West    Laptop     1300.0\n",
            "        Phone       900.0\n",
            "Name: amount, dtype: float64\n",
            "\n",
            "Sum and Average of Sales by Product:\n",
            "           sum    mean\n",
            "product              \n",
            "Laptop   4600  1150.0\n",
            "Phone    2800   700.0\n"
          ]
        }
      ]
    },
    {
      "cell_type": "code",
      "source": [
        "# Load the CSV files\n",
        "employees_df = pd.read_csv('employees.csv')\n",
        "departments_df = pd.read_csv('departments.csv')\n",
        "\n",
        "# 1. Inner join to get employee names and their department details\n",
        "employee_department_join = pd.merge(employees_df, departments_df, on='dept_id', how='inner')\n",
        "print(\"\\nEmployee and Department Join:\\n\", employee_department_join)\n",
        "\n",
        "# 2. Group by department and calculate the number of employees in each department\n",
        "employees_by_department = employee_department_join.groupby('dept_name')['emp_id'].count()\n",
        "print(\"\\nNumber of Employees by Department:\\n\", employees_by_department)\n",
        "\n",
        "# 3. Calculate the total budget allocated to the departments where employees work\n",
        "total_budget_by_dept = employee_department_join.groupby('dept_name')['budget'].sum()\n",
        "print(\"\\nTotal Budget by Department:\\n\", total_budget_by_dept)\n"
      ],
      "metadata": {
        "colab": {
          "base_uri": "https://localhost:8080/"
        },
        "id": "FIO-_VyjzzdZ",
        "outputId": "51713655-609b-4924-910d-392639568e31"
      },
      "execution_count": 3,
      "outputs": [
        {
          "output_type": "stream",
          "name": "stdout",
          "text": [
            "\n",
            "Employee and Department Join:\n",
            "    emp_id emp_name  dept_id dept_name  budget\n",
            "0       1    Alice      101        HR   50000\n",
            "1       2      Bob      102        IT   75000\n",
            "2       3  Charlie      101        HR   50000\n",
            "3       4    David      103   Finance   60000\n",
            "4       5      Eve      102        IT   75000\n",
            "\n",
            "Number of Employees by Department:\n",
            " dept_name\n",
            "Finance    1\n",
            "HR         2\n",
            "IT         2\n",
            "Name: emp_id, dtype: int64\n",
            "\n",
            "Total Budget by Department:\n",
            " dept_name\n",
            "Finance     60000\n",
            "HR         100000\n",
            "IT         150000\n",
            "Name: budget, dtype: int64\n"
          ]
        }
      ]
    },
    {
      "cell_type": "code",
      "source": [
        "# Load the CSV files\n",
        "stock_A_df = pd.read_csv('stock_A.csv')\n",
        "stock_B_df = pd.read_csv('stock_B.csv')\n",
        "\n",
        "# 1. Merge stock prices DataFrames on the date\n",
        "merged_stocks = pd.merge(stock_A_df, stock_B_df, on='date', how='inner')\n",
        "print(\"\\nMerged Stock Data:\\n\", merged_stocks)\n",
        "\n",
        "# 2. Calculate percentage change (daily returns) for both stock prices\n",
        "merged_stocks['return_A'] = merged_stocks['price_A'].pct_change() * 100\n",
        "merged_stocks['return_B'] = merged_stocks['price_B'].pct_change() * 100\n",
        "print(\"\\nDaily Returns for Stock A and Stock B:\\n\", merged_stocks[['date', 'return_A', 'return_B']])\n",
        "\n",
        "# 3. Group by nothing but calculate the average daily returns for each stock\n",
        "avg_returns = merged_stocks[['return_A', 'return_B']].mean()\n",
        "print(\"\\nAverage Returns for Stock A and Stock B:\\n\", avg_returns)\n"
      ],
      "metadata": {
        "colab": {
          "base_uri": "https://localhost:8080/"
        },
        "id": "lCf119mO16Xf",
        "outputId": "38cf808c-2057-4eff-fcac-3fa6ab91712d"
      },
      "execution_count": 4,
      "outputs": [
        {
          "output_type": "stream",
          "name": "stdout",
          "text": [
            "\n",
            "Merged Stock Data:\n",
            "          date  price_A  price_B\n",
            "0  2024-10-01      150      250\n",
            "1  2024-10-02      155      245\n",
            "2  2024-10-03      160      240\n",
            "3  2024-10-04      162      242\n",
            "\n",
            "Daily Returns for Stock A and Stock B:\n",
            "          date  return_A  return_B\n",
            "0  2024-10-01       NaN       NaN\n",
            "1  2024-10-02  3.333333 -2.000000\n",
            "2  2024-10-03  3.225806 -2.040816\n",
            "3  2024-10-04  1.250000  0.833333\n",
            "\n",
            "Average Returns for Stock A and Stock B:\n",
            " return_A    2.603047\n",
            "return_B   -1.069161\n",
            "dtype: float64\n"
          ]
        }
      ]
    }
  ]
}